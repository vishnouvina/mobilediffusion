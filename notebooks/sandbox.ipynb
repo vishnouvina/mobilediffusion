{
 "cells": [
  {
   "cell_type": "code",
   "execution_count": null,
   "metadata": {},
   "outputs": [],
   "source": [
    "import os\n",
    "import sys\n",
    "import wandb\n",
    "from huggingface_hub import login"
   ]
  },
  {
   "cell_type": "code",
   "execution_count": null,
   "metadata": {},
   "outputs": [],
   "source": [
    "wandb.login()"
   ]
  },
  {
   "cell_type": "code",
   "execution_count": null,
   "metadata": {},
   "outputs": [],
   "source": [
    "login()"
   ]
  },
  {
   "cell_type": "code",
   "execution_count": null,
   "metadata": {},
   "outputs": [],
   "source": [
    "import torch\n",
    "\n",
    "print(torch.cuda.is_available())"
   ]
  },
  {
   "cell_type": "code",
   "execution_count": null,
   "metadata": {},
   "outputs": [],
   "source": [
    "#non-LORA only KD\n",
    "\n",
    "!accelerate launch --mixed_precision=\"bf16\"  /w/340/vishnouvina/mobilediffusion/distill_training.py \\\n",
    "  --pretrained_model_name_or_path=\"SG161222/Realistic_Vision_V4.0\" \\\n",
    "  --dataset_name=\"fantasyfish/laion-art\" \\\n",
    "  --resolution=512 --center_crop --random_flip \\\n",
    "  --gradient_accumulation_steps=4 \\\n",
    "  --gradient_checkpointing \\\n",
    "  --max_train_steps=15000 \\\n",
    "  --distill_level=\"sd_tiny\"\\\n",
    "  --prepare_unet=\"True\"\\\n",
    "  --mixed_precision=\"bf16\"\\\n",
    "  --output_weight=0.5\\\n",
    "  --feature_weight=0.5\\\n",
    "  --learning_rate=1e-05 \\\n",
    "  --max_grad_norm=1 \\\n",
    "  --lr_scheduler=\"constant\" --lr_warmup_steps=0 \\\n",
    "  --output_dir=\"mobilediffusion/models/sd-laion-art-KD\"\\\n",
    "  --max_grad_norm=1\\\n",
    "  --push_to_hub \\\n",
    "  --report_to=\"wandb\"\\\n",
    "  --resume_from_checkpoint=\"latest\"\\\n",
    "  --hub_model_id=\"sd-laion-art-KD\""
   ]
  },
  {
   "cell_type": "code",
   "execution_count": null,
   "metadata": {},
   "outputs": [],
   "source": [
    "!accelerate launch --mixed_precision=\"bf16\" /w/340/vishnouvina/mobilediffusion/lora_distill_training.py \\\n",
    "    --pretrained_model_name_or_path=\"SG161222/Realistic_Vision_V4.0\" \\\n",
    "    --dataset_name=\"fantasyfish/laion-art\" \\\n",
    "    --caption_column=\"text\"\\\n",
    "    --resolution=512 --center_crop --random_flip \\\n",
    "    --num_train_epochs=5 \\\n",
    "    --gradient_accumulation_steps=4 \\\n",
    "    --gradient_checkpointing \\\n",
    "    --max_train_steps=30000 \\\n",
    "    --validation_epochs=1 \\\n",
    "    --distill_level=\"sd_tiny\"\\\n",
    "    --prepare_unet=\"True\"\\\n",
    "    --use_peft\\\n",
    "    --use_8bit_adam\\\n",
    "    --output_weight=0.5\\\n",
    "    --feature_weight=0.5\\\n",
    "    --learning_rate=1e-05\\\n",
    "    --report_to=\"wandb\"\\\n",
    "    --lora_r=4 \\\n",
    "    --lora_alpha=32 \\\n",
    "    --output_dir=\"mobilediffusion/models/sd-laion-art\"\\\n",
    "    --max_grad_norm=1\\\n",
    "    --resume_from_checkpoint=\"latest\"\\\n",
    "    --push_to_hub \\\n",
    "    --hub_model_id=\"sd-laion-art\""
   ]
  },
  {
   "cell_type": "code",
   "execution_count": null,
   "metadata": {},
   "outputs": [],
   "source": [
    "!accelerate launch --mixed_precision=\"bf16\" /w/340/vishnouvina/mobilediffusion/lora_distill_training.py \\\n",
    "    --pretrained_model_name_or_path=\"stabilityai/stable-diffusion-2-1\" \\\n",
    "    --dataset_name=\"fantasyfish/laion-art\" \\\n",
    "    --caption_column=\"text\"\\\n",
    "    --resolution=512 --center_crop --random_flip \\\n",
    "    --num_train_epochs=5 \\\n",
    "    --gradient_accumulation_steps=4 \\\n",
    "    --gradient_checkpointing \\\n",
    "    --max_train_steps=800 \\\n",
    "    --validation_epochs=1 \\\n",
    "    --distill_level=\"sd_tiny\"\\\n",
    "    --prepare_unet=\"True\"\\\n",
    "    --use_peft\\\n",
    "    --use_8bit_adam\\\n",
    "    --output_weight=0.5\\\n",
    "    --feature_weight=0.5\\\n",
    "    --learning_rate=1e-05\\\n",
    "    --report_to=\"wandb\"\\\n",
    "    --lora_r=4 \\\n",
    "    --lora_alpha=32 \\\n",
    "    --push_to_hub \\\n",
    "    --hub_model_id=\"sd-laion-art\"\\\n",
    "    --output_dir=\"sd-laion-art\"\\\n",
    "    --max_grad_norm=1"
   ]
  }
 ],
 "metadata": {
  "kernelspec": {
   "display_name": "Python (mdenv)",
   "language": "python",
   "name": "mdenv"
  },
  "language_info": {
   "codemirror_mode": {
    "name": "ipython",
    "version": 3
   },
   "file_extension": ".py",
   "mimetype": "text/x-python",
   "name": "python",
   "nbconvert_exporter": "python",
   "pygments_lexer": "ipython3",
   "version": "3.9.19"
  },
  "orig_nbformat": 4
 },
 "nbformat": 4,
 "nbformat_minor": 2
}
