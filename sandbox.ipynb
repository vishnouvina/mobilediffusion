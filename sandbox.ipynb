{
 "cells": [
  {
   "cell_type": "code",
   "execution_count": null,
   "metadata": {},
   "outputs": [],
   "source": [
    "import wandb\n",
    "from huggingface_hub import login"
   ]
  },
  {
   "cell_type": "code",
   "execution_count": null,
   "metadata": {},
   "outputs": [],
   "source": [
    "wandb.login()"
   ]
  },
  {
   "cell_type": "code",
   "execution_count": null,
   "metadata": {},
   "outputs": [],
   "source": [
    "login()"
   ]
  },
  {
   "cell_type": "code",
   "execution_count": null,
   "metadata": {},
   "outputs": [],
   "source": [
    "!accelerate launch --mixed_precision=\"fp16\" /w/340/vishnouvina/mobilediffusion/lora_distill_training.py \\\n",
    "    --pretrained_model_name_or_path=\"SG161222/Realistic_Vision_V4.0\" \\\n",
    "    --dataset_name=\"fantasyfish/laion-art\" \\\n",
    "    --caption_column=\"text\"\\\n",
    "    --resolution=512 --center_crop --random_flip \\\n",
    "    --num_train_epochs=10 \\\n",
    "    --gradient_accumulation_steps=4 \\\n",
    "    --gradient_checkpointing \\\n",
    "    --max_train_steps=10 \\\n",
    "    --validation_epochs=1 \\\n",
    "    --distill_level=\"sd_tiny\"\\\n",
    "    --prepare_unet=\"True\"\\\n",
    "    --use_peft\\\n",
    "    --output_weight=0.5\\\n",
    "    --feature_weight=0.5\\\n",
    "    --learning_rate=1e-05 \\\n",
    "    --max_grad_norm=1 \\\n",
    "    --lr_scheduler=\"constant\"\\\n",
    "    --lr_warmup_steps=0 \\\n",
    "    --report_to=\"wandb\" \\\n",
    "    --lora_r=4 \\\n",
    "    --lora_alpha=32 \\\n",
    "    --push_to_hub \\\n",
    "    --hub_model_id=\"sd-laion-art\"\\\n",
    "    --output_dir=\"sd-laion-art\"\\"
   ]
  },
  {
   "cell_type": "code",
   "execution_count": null,
   "metadata": {},
   "outputs": [],
   "source": [
    "import torch\n",
    "\n",
    "print(torch.cuda.is_available())"
   ]
  },
  {
   "cell_type": "code",
   "execution_count": null,
   "metadata": {},
   "outputs": [],
   "source": [
    "#srun --partition biggpunodes --nodelist gpunode1 -c 4 --pty --gres=gpu:1 --mem=48G  accelerate launch --mixed_precision=\"fp16\"  lora_distill_training.py --pretrained_model_name_or_path=\"SG161222/Realistic_Vision_V4.0\" --dataset_name=\"fantasyfish/laion-art\" --caption_column=text --resolution=512 --center_crop --random_flip --train_batch_size=1 --num_train_epochs=6 --gradient_accumulation_steps=4 --gradient_checkpointing --max_train_steps=5000 --distill_level=sd_tiny --prepare_unet=True --use_peft --output_weight=0.5 --feature_weight=0.5 --learning_rate=1e-05 --max_grad_norm=1 --lr_scheduler=constant --lr_warmup_steps=0 --validation_prompts= [\"A man in a suit\"]  --report_to=wandb --lora_r=4 --lora_alpha=32 --push_to_hub --hub_model_id=laion-art --output_dir=sd-laion-art"
   ]
  }
 ],
 "metadata": {
  "kernelspec": {
   "display_name": "Python (mdenv)",
   "language": "python",
   "name": "mdenv"
  },
  "language_info": {
   "codemirror_mode": {
    "name": "ipython",
    "version": 3
   },
   "file_extension": ".py",
   "mimetype": "text/x-python",
   "name": "python",
   "nbconvert_exporter": "python",
   "pygments_lexer": "ipython3",
   "version": "3.9.19"
  },
  "orig_nbformat": 4
 },
 "nbformat": 4,
 "nbformat_minor": 2
}
